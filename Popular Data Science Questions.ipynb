{
 "cells": [
  {
   "cell_type": "markdown",
   "metadata": {},
   "source": [
    "# What is the best data science content to write about?\n",
    "\n",
    "I'm exploring the website Stack Exchange. Stack Exchange hosts sites on a multitude of fields and subjects, including mathematics, physics, philosophy, and data science. Stack Exchange employs a reputation award system for its questions and answers. Each post — each question/answer — is a post that is subject to upvotes and downvotes. This ensures that good posts are easily identifiable.\n",
    "\n",
    "I'll be looking into the [Data Science](https://datascience.stackexchange.com/) area of the website to help answer the following question. What content should a data science education company create, based on interest by subject? "
   ]
  },
  {
   "cell_type": "markdown",
   "metadata": {},
   "source": [
    "### What type of questions are welcome on this site?\n",
    "\n",
    "According to Stack Exchange's help center's [section on questions](https://datascience.stackexchange.com/help/asking), we should:\n",
    "\n",
    "* Avoid asking subjective questions.\n",
    "* Ask practical questions about Data Science.\n",
    "* Ask specfic questions.\n",
    "* Make questions relevant to others.\n",
    "\n",
    "All of these characteristics should be helpful to our goal."
   ]
  },
  {
   "cell_type": "markdown",
   "metadata": {},
   "source": [
    "### What, other than questions, does the [home](https://datascience.stackexchange.com/) subdivide do?\n",
    "\n",
    "On the homne page we can see that it has four sections:\n",
    "\n",
    "- Questions - a list of questions asked\n",
    "- Tags - a list of keywords or labels, otherwise known as tags.\n",
    "- User - a list of users.\n",
    "- Unanswered - a list of unanswered questions.\n",
    "\n",
    "The list of tags looks to be the most useful to answering our question. We can use these tags to quantify the number of questions asked about each subject."
   ]
  },
  {
   "cell_type": "markdown",
   "metadata": {},
   "source": [
    "### What information is available in each post?\n",
    "\n",
    "Using [this](https://datascience.stackexchange.com/questions/63118/can-the-same-cnn-architecture-be-used-for-different-data-sets) questions as an example, we can the following information:\n",
    "\n",
    "- For questions only:\n",
    "    - The last time the question was active.\n",
    "    - How many times the questions was viewed.\n",
    "    - Related questions.\n",
    "    - The question's tags.\n",
    "- For both questions and answers:\n",
    "    - The posts's score.\n",
    "    - The posts's title.\n",
    "    - The posts's author.\n",
    "    - The posts's body."
   ]
  },
  {
   "cell_type": "markdown",
   "metadata": {},
   "source": [
    "### Stack Exchange Data Explorer\n",
    "\n",
    "Stack Exchange provides a public data base where you can query and explore the database. This can be found [here](https://data.stackexchange.com/datascience/query/new)\n",
    "\n",
    "Running a few exploratory queries, leads us to focus our efforts on Posts table. For examples, the Tags table looked very promising as it tells us how many times each tag was used, but there's no way to tell just from this if the interest in these tags is recent or a thing from the past.\n",
    "\n",
    "| Id | TagName | Count | ExcerptPostId | WikiPostId |\n",
    "| --- | --- | --- | --- | --- |\n",
    "| 2\t| machine-learning | 7478 | 4909 | 4908 |\n",
    "| 46 | python | 4262 | 5523 | 5522 |\n",
    "| 81 | neural-network | 3109 | 8885 | 8884 |\n",
    "| 194 | deep-learningg | 2996 | 8956 | 8955 |\n",
    "| 77 | classification | 2024 | 4911 | 4910 |\n",
    "| 324 | keras | 1903 | 9251 | 9250 |\n",
    "| 128 | scikit-learn | 1416 | 5896 | 5895 |\n",
    "| 321 | tensorflow | 1347 | 9183 | 9182 |\n",
    "| 47 | nlp | 1288 | 147 | 146 |\n",
    "| 24 | r | 1163 | 49 | 48 |\n"
   ]
  },
  {
   "attachments": {
    "SQL%20Snippet.jpg": {
     "image/jpeg": "[encoded data removed]"
    }
   },
   "cell_type": "markdown",
   "metadata": {},
   "source": [
    "### Getting the Data\n",
    "\n",
    "To get the relevant data I'll run the following query.\n",
    "\n",
    "![SQL%20Snippet.jpg](attachment:SQL%20Snippet.jpg)\n",
    "\n",
    "I'll then save the CSV file containing the above to help answer our question."
   ]
  },
  {
   "cell_type": "markdown",
   "metadata": {},
   "source": [
    "### Exploring the Data\n",
    "\n",
    "We can read in the data while immediatlwey making sure CreationDate will be stoed as a datetime object."
   ]
  },
  {
   "cell_type": "code",
   "execution_count": 308,
   "metadata": {},
   "outputs": [],
   "source": [
    "import pandas as pd\n",
    "import matplotlib.pyplot as plt\n",
    "import seaborn as sns\n",
    "\n",
    "%matplotlib inline"
   ]
  },
  {
   "cell_type": "code",
   "execution_count": 309,
   "metadata": {},
   "outputs": [
    {
     "name": "stdout",
     "output_type": "stream",
     "text": [
      "<class 'pandas.core.frame.DataFrame'>\n",
      "RangeIndex: 8506 entries, 0 to 8505\n",
      "Data columns (total 7 columns):\n",
      "Id               8506 non-null int64\n",
      "CreationDate     8506 non-null datetime64[ns]\n",
      "Score            8506 non-null int64\n",
      "ViewCount        8506 non-null int64\n",
      "Tags             8506 non-null object\n",
      "AnswerCount      8506 non-null int64\n",
      "FavoriteCount    1482 non-null float64\n",
      "dtypes: datetime64[ns](1), float64(1), int64(4), object(1)\n",
      "memory usage: 465.3+ KB\n"
     ]
    },
    {
     "data": {
      "text/plain": [
       "Id                  0\n",
       "CreationDate        0\n",
       "Score               0\n",
       "ViewCount           0\n",
       "Tags                0\n",
       "AnswerCount         0\n",
       "FavoriteCount    7024\n",
       "dtype: int64"
      ]
     },
     "execution_count": 309,
     "metadata": {},
     "output_type": "execute_result"
    }
   ],
   "source": [
    "# Read the file and change CreationDate data type to datetime\n",
    "questions = pd.read_csv(r'C:\\Users\\chizj\\Downloads\\DataQuest CSVs\\QueryResults.csv', parse_dates=['CreationDate'])\n",
    "questions.info()\n",
    "\n",
    "# Find out how many missing values per column.\n",
    "questions.isnull().sum()"
   ]
  },
  {
   "cell_type": "code",
   "execution_count": 310,
   "metadata": {},
   "outputs": [
    {
     "data": {
      "text/html": [
       "<div>\n",
       "<style scoped>\n",
       "    .dataframe tbody tr th:only-of-type {\n",
       "        vertical-align: middle;\n",
       "    }\n",
       "\n",
       "    .dataframe tbody tr th {\n",
       "        vertical-align: top;\n",
       "    }\n",
       "\n",
       "    .dataframe thead th {\n",
       "        text-align: right;\n",
       "    }\n",
       "</style>\n",
       "<table border=\"1\" class=\"dataframe\">\n",
       "  <thead>\n",
       "    <tr style=\"text-align: right;\">\n",
       "      <th></th>\n",
       "      <th>Id</th>\n",
       "      <th>CreationDate</th>\n",
       "      <th>Score</th>\n",
       "      <th>ViewCount</th>\n",
       "      <th>Tags</th>\n",
       "      <th>AnswerCount</th>\n",
       "      <th>FavoriteCount</th>\n",
       "    </tr>\n",
       "  </thead>\n",
       "  <tbody>\n",
       "    <tr>\n",
       "      <th>0</th>\n",
       "      <td>60201</td>\n",
       "      <td>2019-09-14 18:00:57</td>\n",
       "      <td>1</td>\n",
       "      <td>39</td>\n",
       "      <td>&lt;machine-learning&gt;&lt;optimization&gt;&lt;data-science-...</td>\n",
       "      <td>1</td>\n",
       "      <td>NaN</td>\n",
       "    </tr>\n",
       "    <tr>\n",
       "      <th>1</th>\n",
       "      <td>60202</td>\n",
       "      <td>2019-09-14 18:14:22</td>\n",
       "      <td>1</td>\n",
       "      <td>32</td>\n",
       "      <td>&lt;reinforcement-learning&gt;</td>\n",
       "      <td>0</td>\n",
       "      <td>NaN</td>\n",
       "    </tr>\n",
       "    <tr>\n",
       "      <th>2</th>\n",
       "      <td>60204</td>\n",
       "      <td>2019-09-14 20:20:36</td>\n",
       "      <td>3</td>\n",
       "      <td>34</td>\n",
       "      <td>&lt;clustering&gt;&lt;unsupervised-learning&gt;&lt;image-prep...</td>\n",
       "      <td>0</td>\n",
       "      <td>NaN</td>\n",
       "    </tr>\n",
       "    <tr>\n",
       "      <th>3</th>\n",
       "      <td>60205</td>\n",
       "      <td>2019-09-14 23:28:38</td>\n",
       "      <td>1</td>\n",
       "      <td>39</td>\n",
       "      <td>&lt;machine-learning&gt;&lt;regularization&gt;&lt;mnist&gt;</td>\n",
       "      <td>0</td>\n",
       "      <td>NaN</td>\n",
       "    </tr>\n",
       "    <tr>\n",
       "      <th>4</th>\n",
       "      <td>60207</td>\n",
       "      <td>2019-09-15 00:15:02</td>\n",
       "      <td>2</td>\n",
       "      <td>39</td>\n",
       "      <td>&lt;machine-learning&gt;&lt;neural-network&gt;&lt;keras&gt;&lt;opti...</td>\n",
       "      <td>1</td>\n",
       "      <td>NaN</td>\n",
       "    </tr>\n",
       "  </tbody>\n",
       "</table>\n",
       "</div>"
      ],
      "text/plain": [
       "      Id        CreationDate  Score  ViewCount  \\\n",
       "0  60201 2019-09-14 18:00:57      1         39   \n",
       "1  60202 2019-09-14 18:14:22      1         32   \n",
       "2  60204 2019-09-14 20:20:36      3         34   \n",
       "3  60205 2019-09-14 23:28:38      1         39   \n",
       "4  60207 2019-09-15 00:15:02      2         39   \n",
       "\n",
       "                                                Tags  AnswerCount  \\\n",
       "0  <machine-learning><optimization><data-science-...            1   \n",
       "1                           <reinforcement-learning>            0   \n",
       "2  <clustering><unsupervised-learning><image-prep...            0   \n",
       "3          <machine-learning><regularization><mnist>            0   \n",
       "4  <machine-learning><neural-network><keras><opti...            1   \n",
       "\n",
       "   FavoriteCount  \n",
       "0            NaN  \n",
       "1            NaN  \n",
       "2            NaN  \n",
       "3            NaN  \n",
       "4            NaN  "
      ]
     },
     "execution_count": 310,
     "metadata": {},
     "output_type": "execute_result"
    }
   ],
   "source": [
    "questions.head()"
   ]
  },
  {
   "cell_type": "markdown",
   "metadata": {},
   "source": [
    "### Cleaning the Data\n",
    "\n",
    "Fortnuately, the data provided is very clean. I just need to do the following:\n",
    "- Fix the null values in the FavoriteCount column.\n",
    "- Set the appropiate types for the columns.\n",
    "- Clean the Tags column to fit the purpose of the project."
   ]
  },
  {
   "cell_type": "code",
   "execution_count": 311,
   "metadata": {},
   "outputs": [
    {
     "data": {
      "text/html": [
       "<div>\n",
       "<style scoped>\n",
       "    .dataframe tbody tr th:only-of-type {\n",
       "        vertical-align: middle;\n",
       "    }\n",
       "\n",
       "    .dataframe tbody tr th {\n",
       "        vertical-align: top;\n",
       "    }\n",
       "\n",
       "    .dataframe thead th {\n",
       "        text-align: right;\n",
       "    }\n",
       "</style>\n",
       "<table border=\"1\" class=\"dataframe\">\n",
       "  <thead>\n",
       "    <tr style=\"text-align: right;\">\n",
       "      <th></th>\n",
       "      <th>Id</th>\n",
       "      <th>CreationDate</th>\n",
       "      <th>Score</th>\n",
       "      <th>ViewCount</th>\n",
       "      <th>Tags</th>\n",
       "      <th>AnswerCount</th>\n",
       "      <th>FavoriteCount</th>\n",
       "    </tr>\n",
       "  </thead>\n",
       "  <tbody>\n",
       "    <tr>\n",
       "      <th>0</th>\n",
       "      <td>60201</td>\n",
       "      <td>2019-09-14 18:00:57</td>\n",
       "      <td>1</td>\n",
       "      <td>39</td>\n",
       "      <td>[machine-learning, optimization, data-science-...</td>\n",
       "      <td>1</td>\n",
       "      <td>0</td>\n",
       "    </tr>\n",
       "    <tr>\n",
       "      <th>1</th>\n",
       "      <td>60202</td>\n",
       "      <td>2019-09-14 18:14:22</td>\n",
       "      <td>1</td>\n",
       "      <td>32</td>\n",
       "      <td>[reinforcement-learning]</td>\n",
       "      <td>0</td>\n",
       "      <td>0</td>\n",
       "    </tr>\n",
       "    <tr>\n",
       "      <th>2</th>\n",
       "      <td>60204</td>\n",
       "      <td>2019-09-14 20:20:36</td>\n",
       "      <td>3</td>\n",
       "      <td>34</td>\n",
       "      <td>[clustering, unsupervised-learning, image-prep...</td>\n",
       "      <td>0</td>\n",
       "      <td>0</td>\n",
       "    </tr>\n",
       "    <tr>\n",
       "      <th>3</th>\n",
       "      <td>60205</td>\n",
       "      <td>2019-09-14 23:28:38</td>\n",
       "      <td>1</td>\n",
       "      <td>39</td>\n",
       "      <td>[machine-learning, regularization, mnist]</td>\n",
       "      <td>0</td>\n",
       "      <td>0</td>\n",
       "    </tr>\n",
       "    <tr>\n",
       "      <th>4</th>\n",
       "      <td>60207</td>\n",
       "      <td>2019-09-15 00:15:02</td>\n",
       "      <td>2</td>\n",
       "      <td>39</td>\n",
       "      <td>[machine-learning, neural-network, keras, opti...</td>\n",
       "      <td>1</td>\n",
       "      <td>0</td>\n",
       "    </tr>\n",
       "  </tbody>\n",
       "</table>\n",
       "</div>"
      ],
      "text/plain": [
       "      Id        CreationDate  Score  ViewCount  \\\n",
       "0  60201 2019-09-14 18:00:57      1         39   \n",
       "1  60202 2019-09-14 18:14:22      1         32   \n",
       "2  60204 2019-09-14 20:20:36      3         34   \n",
       "3  60205 2019-09-14 23:28:38      1         39   \n",
       "4  60207 2019-09-15 00:15:02      2         39   \n",
       "\n",
       "                                                Tags  AnswerCount  \\\n",
       "0  [machine-learning, optimization, data-science-...            1   \n",
       "1                           [reinforcement-learning]            0   \n",
       "2  [clustering, unsupervised-learning, image-prep...            0   \n",
       "3          [machine-learning, regularization, mnist]            0   \n",
       "4  [machine-learning, neural-network, keras, opti...            1   \n",
       "\n",
       "   FavoriteCount  \n",
       "0              0  \n",
       "1              0  \n",
       "2              0  \n",
       "3              0  \n",
       "4              0  "
      ]
     },
     "execution_count": 311,
     "metadata": {},
     "output_type": "execute_result"
    }
   ],
   "source": [
    "# Fix the null values\n",
    "questions.fillna(0, inplace=True)\n",
    "\n",
    "# Set appropiate types\n",
    "questions['FavoriteCount'] = questions['FavoriteCount'].astype(int)\n",
    "\n",
    "# Clean the tags column\n",
    "questions[\"Tags\"] = questions[\"Tags\"].str.replace(\"^<|>$\", \"\").str.split(\"><\")\n",
    "questions.head()"
   ]
  },
  {
   "cell_type": "markdown",
   "metadata": {},
   "source": [
    "### Most Used and Most Viewed\n",
    "\n",
    "I'll now focus on determining the most popular tags. I'll do so by considering two different popularity proxies: for each tag I'll count how many times the tag was used, and how many times a question with that tag was viewed.\n",
    "\n",
    "I could take into account the score, or whether or not a question is part of someone's favorite questions. These are all reasonable options to investigate; but I'll limit the focus of our research to counts and views for now."
   ]
  },
  {
   "cell_type": "code",
   "execution_count": 312,
   "metadata": {},
   "outputs": [],
   "source": [
    "# I'll first count how many times each tag was used\n",
    "tag_count = {}\n",
    "\n",
    "for row in questions['Tags']:\n",
    "    for tag in row:\n",
    "        if tag in tag_count:\n",
    "            tag_count[tag] += 1\n",
    "        else:\n",
    "            tag_count[tag] = 1"
   ]
  },
  {
   "cell_type": "code",
   "execution_count": 313,
   "metadata": {},
   "outputs": [
    {
     "name": "stdout",
     "output_type": "stream",
     "text": [
      "                        Count\n",
      "machine-learning-model    218\n",
      "statistics                225\n",
      "clustering                255\n",
      "predictive-modeling       262\n",
      "r                         262\n",
      "dataset                   321\n",
      "regression                336\n",
      "pandas                    346\n",
      "lstm                      379\n",
      "time-series               445\n",
      "cnn                       468\n",
      "nlp                       477\n",
      "scikit-learn              524\n",
      "tensorflow                561\n",
      "classification            666\n",
      "keras                     905\n",
      "neural-network           1024\n",
      "deep-learning            1162\n",
      "python                   1752\n",
      "machine-learning         2607\n"
     ]
    }
   ],
   "source": [
    "# To make it more legible I'll turn tag_count into a dataframe\n",
    "tag_count = pd.DataFrame.from_dict(tag_count, orient='index')\n",
    "tag_count.rename(columns={0: 'Count'}, inplace=True)\n",
    "top_tags = tag_count.sort_values(['Count']).tail(20)\n",
    "print(top_tags)"
   ]
  },
  {
   "cell_type": "code",
   "execution_count": 314,
   "metadata": {},
   "outputs": [
    {
     "name": "stdout",
     "output_type": "stream",
     "text": [
      "                   Views\n",
      "data-mining        54778\n",
      "csv                63019\n",
      "dataset            64412\n",
      "pytorch            65636\n",
      "regression         72298\n",
      "numpy              84507\n",
      "time-series        99257\n",
      "cnn               110463\n",
      "lstm              110715\n",
      "nlp               112362\n",
      "dataframe         149391\n",
      "classification    155747\n",
      "tensorflow        193197\n",
      "scikit-learn      204562\n",
      "neural-network    281740\n",
      "deep-learning     346121\n",
      "pandas            372357\n",
      "keras             409575\n",
      "machine-learning  586699\n",
      "python            881487\n"
     ]
    }
   ],
   "source": [
    "# Count how many times each tag was viewed\n",
    "tags_view_count = {}\n",
    "\n",
    "for idx, tags in enumerate(questions['Tags']):\n",
    "    for tag in tags:\n",
    "        if tag in tags_view_count:\n",
    "            tags_view_count[tag] += questions['ViewCount'].iloc[idx]\n",
    "        else:\n",
    "            tags_view_count[tag] = 1\n",
    "\n",
    "tags_view_count = pd.DataFrame.from_dict(tags_view_count, orient='index')\n",
    "tags_view_count.rename(columns={0: 'Views'}, inplace=True)\n",
    "most_viewed = tags_view_count.sort_values(['Views']).tail(20)\n",
    "print(most_viewed)"
   ]
  },
  {
   "cell_type": "code",
   "execution_count": 315,
   "metadata": {},
   "outputs": [
    {
     "data": {
      "text/plain": [
       "<matplotlib.axes._subplots.AxesSubplot at 0x179ad79ff08>"
      ]
     },
     "execution_count": 315,
     "metadata": {},
     "output_type": "execute_result"
    },
    {
     "data": {
      "image/png": "[encoded data removed]",
      "text/plain": [
       "<Figure size 1152x576 with 1 Axes>"
      ]
     },
     "metadata": {
      "needs_background": "light"
     },
     "output_type": "display_data"
    }
   ],
   "source": [
    "# View most_viewed visually on a graph\n",
    "most_viewed.plot(kind='barh', figsize=(16,8))"
   ]
  },
  {
   "cell_type": "code",
   "execution_count": 316,
   "metadata": {},
   "outputs": [
    {
     "data": {
      "text/plain": [
       "<matplotlib.axes._subplots.AxesSubplot at 0x179ad4de1c8>"
      ]
     },
     "execution_count": 316,
     "metadata": {},
     "output_type": "execute_result"
    },
    {
     "data": {
      "image/png": "[encoded data removed]",
      "text/plain": [
       "<Figure size 1728x720 with 2 Axes>"
      ]
     },
     "metadata": {
      "needs_background": "light"
     },
     "output_type": "display_data"
    }
   ],
   "source": [
    "# View both tag_count and most_viewed as graphs side-by-side\n",
    "ax1 = plt.subplot(1, 2, 1)\n",
    "ax2 = plt.subplot(1, 2, 2)\n",
    "top_tags.plot(kind='barh', figsize=(24,10), ax=ax1)\n",
    "most_viewed.plot(kind='barh', figsize=(24,10), ax=ax2)"
   ]
  },
  {
   "cell_type": "markdown",
   "metadata": {},
   "source": [
    "### Conclusion\n",
    "\n",
    "Most of the top tags are all intimately related with one central machine learning theme: deep learning. If we want to be very specific, we can suggest the creation of Python content that uses deep learning for classification problems (and other variations of this suggestion).\n",
    "\n",
    "At the glance of an eye, someone with sufficient domain knowledge can tell that the most popular topic at the moment, as shown by our analysis, is deep learning."
   ]
  },
  {
   "cell_type": "markdown",
   "metadata": {},
   "source": [
    "### Just a Fad?"
   ]
  },
  {
   "cell_type": "markdown",
   "metadata": {},
   "source": [
    "I want to solidify my findings with additional proof. \n",
    "\n",
    "Using the following SQL query I grabbed a CSV file with info on all the questions ever asked on Data Science Stack Exchange.\n",
    "\n",
    "SELECT Id, CreationDate, Tags\n",
    "\n",
    "FROM posts\n",
    "\n",
    "WHERE PostTypeId = 1;"
   ]
  },
  {
   "cell_type": "code",
   "execution_count": 317,
   "metadata": {},
   "outputs": [],
   "source": [
    "# Read in the CSV\n",
    "all_q = pd.read_csv(r'C:\\Users\\chizj\\Downloads\\DataQuest CSVs\\all_questions.csv', parse_dates=['CreationDate'])"
   ]
  },
  {
   "cell_type": "code",
   "execution_count": 318,
   "metadata": {},
   "outputs": [],
   "source": [
    "# Transform the Tags column similarly to what we did previously\n",
    "all_q['Tags'] = all_q['Tags'].str.replace(\"^<|>$\", \"\").str.split('><')"
   ]
  },
  {
   "cell_type": "code",
   "execution_count": 319,
   "metadata": {
    "scrolled": true
   },
   "outputs": [
    {
     "data": {
      "text/html": [
       "<div>\n",
       "<style scoped>\n",
       "    .dataframe tbody tr th:only-of-type {\n",
       "        vertical-align: middle;\n",
       "    }\n",
       "\n",
       "    .dataframe tbody tr th {\n",
       "        vertical-align: top;\n",
       "    }\n",
       "\n",
       "    .dataframe thead th {\n",
       "        text-align: right;\n",
       "    }\n",
       "</style>\n",
       "<table border=\"1\" class=\"dataframe\">\n",
       "  <thead>\n",
       "    <tr style=\"text-align: right;\">\n",
       "      <th></th>\n",
       "      <th>Id</th>\n",
       "      <th>CreationDate</th>\n",
       "      <th>Tags</th>\n",
       "    </tr>\n",
       "  </thead>\n",
       "  <tbody>\n",
       "    <tr>\n",
       "      <th>0</th>\n",
       "      <td>8837</td>\n",
       "      <td>2015-11-13 19:16:49</td>\n",
       "      <td>[nlp, text-mining]</td>\n",
       "    </tr>\n",
       "    <tr>\n",
       "      <th>1</th>\n",
       "      <td>8838</td>\n",
       "      <td>2015-11-13 21:41:18</td>\n",
       "      <td>[sas]</td>\n",
       "    </tr>\n",
       "    <tr>\n",
       "      <th>2</th>\n",
       "      <td>8840</td>\n",
       "      <td>2015-11-14 05:51:38</td>\n",
       "      <td>[scikit-learn]</td>\n",
       "    </tr>\n",
       "    <tr>\n",
       "      <th>3</th>\n",
       "      <td>8841</td>\n",
       "      <td>2015-11-14 05:58:56</td>\n",
       "      <td>[machine-learning, classification, r, unbalanc...</td>\n",
       "    </tr>\n",
       "    <tr>\n",
       "      <th>4</th>\n",
       "      <td>8846</td>\n",
       "      <td>2015-11-14 19:49:28</td>\n",
       "      <td>[data-mining, reference-request, fuzzy-logic]</td>\n",
       "    </tr>\n",
       "    <tr>\n",
       "      <th>5</th>\n",
       "      <td>8847</td>\n",
       "      <td>2015-11-15 00:45:03</td>\n",
       "      <td>[python, feature-extraction, image-recognition]</td>\n",
       "    </tr>\n",
       "    <tr>\n",
       "      <th>6</th>\n",
       "      <td>8850</td>\n",
       "      <td>2015-11-15 15:06:41</td>\n",
       "      <td>[machine-learning, python, neural-network, dis...</td>\n",
       "    </tr>\n",
       "    <tr>\n",
       "      <th>7</th>\n",
       "      <td>8853</td>\n",
       "      <td>2015-11-16 01:53:50</td>\n",
       "      <td>[machine-learning, statistics, dimensionality-...</td>\n",
       "    </tr>\n",
       "    <tr>\n",
       "      <th>8</th>\n",
       "      <td>8855</td>\n",
       "      <td>2015-11-16 08:15:55</td>\n",
       "      <td>[machine-learning, neural-network, convnet]</td>\n",
       "    </tr>\n",
       "    <tr>\n",
       "      <th>9</th>\n",
       "      <td>8857</td>\n",
       "      <td>2015-11-16 10:57:53</td>\n",
       "      <td>[data-cleaning, preprocessing]</td>\n",
       "    </tr>\n",
       "  </tbody>\n",
       "</table>\n",
       "</div>"
      ],
      "text/plain": [
       "     Id        CreationDate                                               Tags\n",
       "0  8837 2015-11-13 19:16:49                                 [nlp, text-mining]\n",
       "1  8838 2015-11-13 21:41:18                                              [sas]\n",
       "2  8840 2015-11-14 05:51:38                                     [scikit-learn]\n",
       "3  8841 2015-11-14 05:58:56  [machine-learning, classification, r, unbalanc...\n",
       "4  8846 2015-11-14 19:49:28      [data-mining, reference-request, fuzzy-logic]\n",
       "5  8847 2015-11-15 00:45:03    [python, feature-extraction, image-recognition]\n",
       "6  8850 2015-11-15 15:06:41  [machine-learning, python, neural-network, dis...\n",
       "7  8853 2015-11-16 01:53:50  [machine-learning, statistics, dimensionality-...\n",
       "8  8855 2015-11-16 08:15:55        [machine-learning, neural-network, convnet]\n",
       "9  8857 2015-11-16 10:57:53                     [data-cleaning, preprocessing]"
      ]
     },
     "execution_count": 319,
     "metadata": {},
     "output_type": "execute_result"
    }
   ],
   "source": [
    "all_q.head(10)"
   ]
  },
  {
   "cell_type": "markdown",
   "metadata": {},
   "source": [
    "Before deciding which questions should be classified as being deep learning questions, I should decide what tags are deep learning tags.\n",
    "\n",
    "The definition of what constitutes a deep learning tag I'll use is: a tag that belongs to the list [\"lstm\", \"cnn\", \"scikit-learn\", \"tensorflow\", \"keras\", \"neural-network\", \"deep-learning\"].\n",
    "\n",
    "This list was obtained by looking at all the tags in top_tags and seeing which ones had any relation to deep learning. You can use Google and read the tags descriptions to reach similar results.\n",
    "\n",
    "I'll now create a function that assigns 1 to deep learning questions and 0 otherwise; and I use it."
   ]
  },
  {
   "cell_type": "code",
   "execution_count": 320,
   "metadata": {},
   "outputs": [],
   "source": [
    "def deep_learning(tags):\n",
    "    for tag in tags:\n",
    "        if tag in [\"lstm\", \"cnn\", \"scikit-learn\", \"tensorflow\", \"keras\", \"neural-network\", \"deep-learning\"]:\n",
    "            return 1\n",
    "    return 0\n",
    "\n",
    "all_q['DeepLearning'] = all_q['Tags'].apply(deep_learning)"
   ]
  },
  {
   "cell_type": "code",
   "execution_count": 321,
   "metadata": {},
   "outputs": [
    {
     "data": {
      "text/html": [
       "<div>\n",
       "<style scoped>\n",
       "    .dataframe tbody tr th:only-of-type {\n",
       "        vertical-align: middle;\n",
       "    }\n",
       "\n",
       "    .dataframe tbody tr th {\n",
       "        vertical-align: top;\n",
       "    }\n",
       "\n",
       "    .dataframe thead th {\n",
       "        text-align: right;\n",
       "    }\n",
       "</style>\n",
       "<table border=\"1\" class=\"dataframe\">\n",
       "  <thead>\n",
       "    <tr style=\"text-align: right;\">\n",
       "      <th></th>\n",
       "      <th>Id</th>\n",
       "      <th>CreationDate</th>\n",
       "      <th>Tags</th>\n",
       "      <th>DeepLearning</th>\n",
       "    </tr>\n",
       "  </thead>\n",
       "  <tbody>\n",
       "    <tr>\n",
       "      <th>22753</th>\n",
       "      <td>8641</td>\n",
       "      <td>2015-10-29 09:48:39</td>\n",
       "      <td>[clustering, experiments, methodology]</td>\n",
       "      <td>0</td>\n",
       "    </tr>\n",
       "    <tr>\n",
       "      <th>18565</th>\n",
       "      <td>66694</td>\n",
       "      <td>2020-01-19 04:55:44</td>\n",
       "      <td>[pyspark, csv]</td>\n",
       "      <td>0</td>\n",
       "    </tr>\n",
       "    <tr>\n",
       "      <th>5622</th>\n",
       "      <td>9726</td>\n",
       "      <td>2016-01-10 17:10:59</td>\n",
       "      <td>[predictive-modeling]</td>\n",
       "      <td>0</td>\n",
       "    </tr>\n",
       "    <tr>\n",
       "      <th>15325</th>\n",
       "      <td>49403</td>\n",
       "      <td>2019-04-16 13:56:07</td>\n",
       "      <td>[machine-learning, logistic-regression, gradie...</td>\n",
       "      <td>0</td>\n",
       "    </tr>\n",
       "    <tr>\n",
       "      <th>3827</th>\n",
       "      <td>30765</td>\n",
       "      <td>2018-04-24 17:19:39</td>\n",
       "      <td>[machine-learning, linear-regression, gradient...</td>\n",
       "      <td>0</td>\n",
       "    </tr>\n",
       "  </tbody>\n",
       "</table>\n",
       "</div>"
      ],
      "text/plain": [
       "          Id        CreationDate  \\\n",
       "22753   8641 2015-10-29 09:48:39   \n",
       "18565  66694 2020-01-19 04:55:44   \n",
       "5622    9726 2016-01-10 17:10:59   \n",
       "15325  49403 2019-04-16 13:56:07   \n",
       "3827   30765 2018-04-24 17:19:39   \n",
       "\n",
       "                                                    Tags  DeepLearning  \n",
       "22753             [clustering, experiments, methodology]             0  \n",
       "18565                                     [pyspark, csv]             0  \n",
       "5622                               [predictive-modeling]             0  \n",
       "15325  [machine-learning, logistic-regression, gradie...             0  \n",
       "3827   [machine-learning, linear-regression, gradient...             0  "
      ]
     },
     "execution_count": 321,
     "metadata": {},
     "output_type": "execute_result"
    }
   ],
   "source": [
    "all_q.sample(5)"
   ]
  },
  {
   "cell_type": "markdown",
   "metadata": {},
   "source": [
    "The data-science-techonology landscape isn't something as dynamic to merit daily, weekly, or even monthly tracking. Let's track it quarterly.\n",
    "\n",
    "Since we don't have all the data for the first quarter of 2020, we'll get rid of those dates:"
   ]
  },
  {
   "cell_type": "code",
   "execution_count": 322,
   "metadata": {},
   "outputs": [],
   "source": [
    "all_q = all_q[all_q['CreationDate'].dt.year < 2020]"
   ]
  },
  {
   "cell_type": "code",
   "execution_count": 323,
   "metadata": {},
   "outputs": [],
   "source": [
    "# Create a column that identifies the quarter the question was asked in.\n",
    "def quarter_asked(datetime):\n",
    "    year = str(datetime.year)[-2:]\n",
    "    quarter = str(((datetime.month - 1) // 3) + 1)\n",
    "    return '{y}Q{q}'.format(y=year, q=quarter)"
   ]
  },
  {
   "cell_type": "code",
   "execution_count": 324,
   "metadata": {
    "scrolled": true
   },
   "outputs": [
    {
     "data": {
      "text/html": [
       "<div>\n",
       "<style scoped>\n",
       "    .dataframe tbody tr th:only-of-type {\n",
       "        vertical-align: middle;\n",
       "    }\n",
       "\n",
       "    .dataframe tbody tr th {\n",
       "        vertical-align: top;\n",
       "    }\n",
       "\n",
       "    .dataframe thead th {\n",
       "        text-align: right;\n",
       "    }\n",
       "</style>\n",
       "<table border=\"1\" class=\"dataframe\">\n",
       "  <thead>\n",
       "    <tr style=\"text-align: right;\">\n",
       "      <th></th>\n",
       "      <th>Id</th>\n",
       "      <th>CreationDate</th>\n",
       "      <th>Tags</th>\n",
       "      <th>DeepLearning</th>\n",
       "      <th>Quarter Asked</th>\n",
       "    </tr>\n",
       "  </thead>\n",
       "  <tbody>\n",
       "    <tr>\n",
       "      <th>0</th>\n",
       "      <td>8837</td>\n",
       "      <td>2015-11-13 19:16:49</td>\n",
       "      <td>[nlp, text-mining]</td>\n",
       "      <td>0</td>\n",
       "      <td>15Q4</td>\n",
       "    </tr>\n",
       "    <tr>\n",
       "      <th>1</th>\n",
       "      <td>8838</td>\n",
       "      <td>2015-11-13 21:41:18</td>\n",
       "      <td>[sas]</td>\n",
       "      <td>0</td>\n",
       "      <td>15Q4</td>\n",
       "    </tr>\n",
       "    <tr>\n",
       "      <th>2</th>\n",
       "      <td>8840</td>\n",
       "      <td>2015-11-14 05:51:38</td>\n",
       "      <td>[scikit-learn]</td>\n",
       "      <td>1</td>\n",
       "      <td>15Q4</td>\n",
       "    </tr>\n",
       "    <tr>\n",
       "      <th>3</th>\n",
       "      <td>8841</td>\n",
       "      <td>2015-11-14 05:58:56</td>\n",
       "      <td>[machine-learning, classification, r, unbalanc...</td>\n",
       "      <td>0</td>\n",
       "      <td>15Q4</td>\n",
       "    </tr>\n",
       "    <tr>\n",
       "      <th>4</th>\n",
       "      <td>8846</td>\n",
       "      <td>2015-11-14 19:49:28</td>\n",
       "      <td>[data-mining, reference-request, fuzzy-logic]</td>\n",
       "      <td>0</td>\n",
       "      <td>15Q4</td>\n",
       "    </tr>\n",
       "  </tbody>\n",
       "</table>\n",
       "</div>"
      ],
      "text/plain": [
       "     Id        CreationDate  \\\n",
       "0  8837 2015-11-13 19:16:49   \n",
       "1  8838 2015-11-13 21:41:18   \n",
       "2  8840 2015-11-14 05:51:38   \n",
       "3  8841 2015-11-14 05:58:56   \n",
       "4  8846 2015-11-14 19:49:28   \n",
       "\n",
       "                                                Tags  DeepLearning  \\\n",
       "0                                 [nlp, text-mining]             0   \n",
       "1                                              [sas]             0   \n",
       "2                                     [scikit-learn]             1   \n",
       "3  [machine-learning, classification, r, unbalanc...             0   \n",
       "4      [data-mining, reference-request, fuzzy-logic]             0   \n",
       "\n",
       "  Quarter Asked  \n",
       "0          15Q4  \n",
       "1          15Q4  \n",
       "2          15Q4  \n",
       "3          15Q4  \n",
       "4          15Q4  "
      ]
     },
     "execution_count": 324,
     "metadata": {},
     "output_type": "execute_result"
    }
   ],
   "source": [
    "all_q['Quarter Asked'] = all_q['CreationDate'].apply(quarter_asked)\n",
    "all_q.head()"
   ]
  },
  {
   "cell_type": "markdown",
   "metadata": {},
   "source": [
    "For the final stretch of this screen, we'll group by quarter and:\n",
    "\n",
    "- Count the number of deep learning questions.\n",
    "- Count the total number of questions.\n",
    "- Compute the ratio between the two numbers above."
   ]
  },
  {
   "cell_type": "code",
   "execution_count": 325,
   "metadata": {},
   "outputs": [],
   "source": [
    "quarter = all_q.groupby('Quarter Asked').agg({'DeepLearning': ['sum', 'size']})\n",
    "quarter.columns = ['Deep Learning Questions', 'Total Questions']\n",
    "quarter['Deep Learning Rate'] = quarter['Deep Learning Questions'] / quarter['Total Questions']"
   ]
  },
  {
   "cell_type": "code",
   "execution_count": 326,
   "metadata": {},
   "outputs": [
    {
     "data": {
      "text/html": [
       "<div>\n",
       "<style scoped>\n",
       "    .dataframe tbody tr th:only-of-type {\n",
       "        vertical-align: middle;\n",
       "    }\n",
       "\n",
       "    .dataframe tbody tr th {\n",
       "        vertical-align: top;\n",
       "    }\n",
       "\n",
       "    .dataframe thead th {\n",
       "        text-align: right;\n",
       "    }\n",
       "</style>\n",
       "<table border=\"1\" class=\"dataframe\">\n",
       "  <thead>\n",
       "    <tr style=\"text-align: right;\">\n",
       "      <th></th>\n",
       "      <th>Quarter Asked</th>\n",
       "      <th>Deep Learning Questions</th>\n",
       "      <th>Total Questions</th>\n",
       "      <th>Deep Learning Rate</th>\n",
       "    </tr>\n",
       "  </thead>\n",
       "  <tbody>\n",
       "    <tr>\n",
       "      <th>15</th>\n",
       "      <td>18Q1</td>\n",
       "      <td>553</td>\n",
       "      <td>1219</td>\n",
       "      <td>0.453651</td>\n",
       "    </tr>\n",
       "    <tr>\n",
       "      <th>22</th>\n",
       "      <td>19Q4</td>\n",
       "      <td>806</td>\n",
       "      <td>2023</td>\n",
       "      <td>0.398418</td>\n",
       "    </tr>\n",
       "    <tr>\n",
       "      <th>5</th>\n",
       "      <td>15Q3</td>\n",
       "      <td>45</td>\n",
       "      <td>311</td>\n",
       "      <td>0.144695</td>\n",
       "    </tr>\n",
       "    <tr>\n",
       "      <th>6</th>\n",
       "      <td>15Q4</td>\n",
       "      <td>66</td>\n",
       "      <td>382</td>\n",
       "      <td>0.172775</td>\n",
       "    </tr>\n",
       "    <tr>\n",
       "      <th>0</th>\n",
       "      <td>14Q2</td>\n",
       "      <td>9</td>\n",
       "      <td>157</td>\n",
       "      <td>0.057325</td>\n",
       "    </tr>\n",
       "  </tbody>\n",
       "</table>\n",
       "</div>"
      ],
      "text/plain": [
       "   Quarter Asked  Deep Learning Questions  Total Questions  Deep Learning Rate\n",
       "15          18Q1                      553             1219            0.453651\n",
       "22          19Q4                      806             2023            0.398418\n",
       "5           15Q3                       45              311            0.144695\n",
       "6           15Q4                       66              382            0.172775\n",
       "0           14Q2                        9              157            0.057325"
      ]
     },
     "execution_count": 326,
     "metadata": {},
     "output_type": "execute_result"
    }
   ],
   "source": [
    "# To help with visualization.\n",
    "quarter.reset_index(inplace=True)\n",
    "quarter.sample(5)"
   ]
  },
  {
   "cell_type": "markdown",
   "metadata": {},
   "source": [
    "Now, I'll use a graph to easily show the rate at which deep lerning questions are being asked relative to other types of questions."
   ]
  },
  {
   "cell_type": "code",
   "execution_count": 327,
   "metadata": {},
   "outputs": [
    {
     "data": {
      "image/png": "[encoded data removed]",
      "text/plain": [
       "<Figure size 1728x864 with 2 Axes>"
      ]
     },
     "metadata": {
      "needs_background": "light"
     },
     "output_type": "display_data"
    }
   ],
   "source": [
    "ax1 = quarter.plot(x=\"Quarter Asked\", y=\"Deep Learning Rate\",\n",
    "                    kind=\"line\", linestyle=\"-\", marker=\"o\", color=\"orange\",\n",
    "                    figsize=(24,12)\n",
    "                    )\n",
    "\n",
    "ax2 = quarter.plot(x=\"Quarter Asked\", y=\"Total Questions\",\n",
    "                     kind=\"bar\", ax=ax1, secondary_y=True, alpha=0.7, rot=45)\n",
    "\n",
    "for idx, t in enumerate(quarter[\"Total Questions\"]):\n",
    "    ax2.text(idx, t, str(t), ha=\"center\", va=\"bottom\")\n",
    "xlims = ax1.get_xlim()\n",
    "\n",
    "ax1.get_legend().remove()\n",
    "\n",
    "handles1, labels1 = ax1.get_legend_handles_labels()\n",
    "handles2, labels2 = ax2.get_legend_handles_labels()\n",
    "ax1.legend(handles=handles1 + handles2,\n",
    "           labels=labels1 + labels2,\n",
    "           loc=\"upper left\", prop={\"size\": 12})\n",
    "\n",
    "\n",
    "for ax in (ax1, ax2):\n",
    "    for where in (\"top\", \"right\"):\n",
    "        ax.spines[where].set_visible(False)\n",
    "        ax.tick_params(right=False, labelright=False)"
   ]
  },
  {
   "cell_type": "markdown",
   "metadata": {},
   "source": [
    "It seems that deep learning questions was a high-growth trend since the start of Data Science Stack Exchange and it looks like it is plateauing. However, there is no evidence to suggest that interest in deep learning is decreasing and so propose that we create deep learning content."
   ]
  },
  {
   "cell_type": "code",
   "execution_count": null,
   "metadata": {},
   "outputs": [],
   "source": []
  }
 ],
 "metadata": {
  "kernelspec": {
   "display_name": "Python 3.7.5 64-bit",
   "language": "python",
   "name": "python37564bit64b4d53f04bc4e918c6184fa25fae01b"
  },
  "language_info": {
   "codemirror_mode": {
    "name": "ipython",
    "version": 3
   },
   "file_extension": ".py",
   "mimetype": "text/x-python",
   "name": "python",
   "nbconvert_exporter": "python",
   "pygments_lexer": "ipython3",
   "version": "3.7.5"
  }
 },
 "nbformat": 4,
 "nbformat_minor": 2
}
